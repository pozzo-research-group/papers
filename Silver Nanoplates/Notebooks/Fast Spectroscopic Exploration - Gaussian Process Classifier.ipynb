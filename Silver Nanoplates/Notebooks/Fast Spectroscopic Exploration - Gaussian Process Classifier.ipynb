{
 "cells": [
  {
   "cell_type": "code",
   "execution_count": 4,
   "metadata": {
    "id": "lkZTBBCH3ed8"
   },
   "outputs": [],
   "source": [
    "import numpy as np\n",
    "import matplotlib.pyplot as plt\n",
    "\n",
    "from scipy.optimize import minimize\n",
    "from scipy.stats import bernoulli\n",
    "from scipy.special import expit as sigmoid\n",
    "\n",
    "from sklearn.datasets import make_moons\n",
    "from sklearn.gaussian_process import GaussianProcessClassifier\n",
    "from sklearn.gaussian_process.kernels import ConstantKernel\n",
    "from sklearn.gaussian_process.kernels import RBF\n",
    "from sklearn.gaussian_process.kernels import Matern\n",
    "\n",
    "from scipy.spatial import distance\n",
    "from sklearn.neighbors import NearestNeighbors\n",
    "import pandas as pd\n",
    "from sklearn.preprocessing import MinMaxScaler\n",
    "from sklearn.model_selection import train_test_split\n",
    "from sklearn.metrics import accuracy_score\n",
    "import sys, os\n",
    "from design_space import sample_design_space\n",
    "%matplotlib inline"
   ]
  },
  {
   "cell_type": "markdown",
   "metadata": {
    "id": "YwiaKAgv3ed9"
   },
   "source": [
    "## Load Data\n",
    "We need to load the volumes of the samples and the classification of these samples (if they are plates or not). This classification will come from the notebook: Shape Exploration - Phase Mapping. "
   ]
  },
  {
   "cell_type": "code",
   "execution_count": 5,
   "metadata": {},
   "outputs": [],
   "source": [
    "def load_data(path):\n",
    "    volumes = pd.read_csv(path).values\n",
    "    PVP = (volumes[:,0]*2/325).reshape(-1,1)\n",
    "    TA = (volumes[:,2]*2/325).reshape(-1,1)\n",
    "    AA = (volumes[:,3]*2/325).reshape(-1,1)\n",
    "    SN = (volumes[:,4]*2/325).reshape(-1,1)\n",
    "    Seeds = (volumes[:,5]*0.025/325).reshape(-1,1) #Use mM as units \n",
    "    x = np.hstack((PVP, TA, AA, SN, Seeds))\n",
    "    return x"
   ]
  },
  {
   "cell_type": "code",
   "execution_count": 6,
   "metadata": {},
   "outputs": [],
   "source": [
    "path_0 = '../Fast Spectroscopic Exploration/Volumes/Volumes_0.csv'\n",
    "path_1 = '../Fast Spectroscopic Exploration/Volumes/Volumes_1.csv'\n",
    "path_2 = '../Fast Spectroscopic Exploration/Volumes/Volumes_2.csv'\n",
    "path_3 = '../Fast Spectroscopic Exploration/Volumes/Volumes_3.csv'\n",
    "path_4 = '../Fast Spectroscopic Exploration/Volumes/Volumes_4.csv'\n",
    "path_5 = '../Fast Spectroscopic Exploration/Volumes/Volumes_5.csv'\n",
    "\n",
    "x0 = load_data(path_0) #this is the data of iteration 0\n",
    "x1 = load_data(path_1) #this is the data of iteration 1\n",
    "x2 = load_data(path_2) #this is the data of iteration 2\n",
    "x3 = load_data(path_3) #this is the data of iteration 3\n",
    "x4 = load_data(path_4) #this is the data of iteration 4\n",
    "x5 = load_data(path_5) #this is the data of iteration 5"
   ]
  },
  {
   "cell_type": "markdown",
   "metadata": {},
   "source": [
    "We will concatenate the data of the concentrations of the samples into one single array. The current code is used for the last iteration. If iteration 1 were to be run, the variable \"x\" would only contain the concentrations of \"x0\". "
   ]
  },
  {
   "cell_type": "code",
   "execution_count": 8,
   "metadata": {},
   "outputs": [],
   "source": [
    "x = np.vstack((x0, x1, x2, x3, x4, x5)) #this will remain unnormalized\n",
    "X = np.vstack((x0, x1, x2, x3, x4, x5)) #this will be normalized from 0 to 1. "
   ]
  },
  {
   "cell_type": "markdown",
   "metadata": {},
   "source": [
    "The classification of each sample can then be loaded. The current input is used for the last iteration. If iteration 1 were to be run, the code would import \"classification_0.npy\". "
   ]
  },
  {
   "cell_type": "code",
   "execution_count": 10,
   "metadata": {},
   "outputs": [],
   "source": [
    "y = np.load('../Fast Spectroscopic Exploration/Spectra/classification_5.npy').reshape(-1,1)"
   ]
  },
  {
   "cell_type": "markdown",
   "metadata": {},
   "source": [
    "A minmax normalization from 0 to 1 is used on the data"
   ]
  },
  {
   "cell_type": "code",
   "execution_count": 11,
   "metadata": {},
   "outputs": [],
   "source": [
    "scaler = MinMaxScaler()\n",
    "X = scaler.fit(X).transform(X)"
   ]
  },
  {
   "cell_type": "code",
   "execution_count": 12,
   "metadata": {},
   "outputs": [],
   "source": [
    "scaler = MinMaxScaler()\n",
    "t = scaler.fit(y).transform(y)"
   ]
  },
  {
   "cell_type": "markdown",
   "metadata": {},
   "source": [
    "## Fit Model\n",
    "We will train our gaussian process classifier with the X and t datasets. "
   ]
  },
  {
   "cell_type": "code",
   "execution_count": 33,
   "metadata": {},
   "outputs": [],
   "source": [
    "ds = sample_design_space()\n",
    "ds.fit_model(X,t, 0.90)"
   ]
  },
  {
   "cell_type": "code",
   "execution_count": 34,
   "metadata": {},
   "outputs": [
    {
     "data": {
      "text/plain": [
       "0.7701149425287356"
      ]
     },
     "execution_count": 34,
     "metadata": {},
     "output_type": "execute_result"
    }
   ],
   "source": [
    "ds.accuracy_score"
   ]
  },
  {
   "cell_type": "code",
   "execution_count": 35,
   "metadata": {},
   "outputs": [
    {
     "data": {
      "text/plain": [
       "0.8159722222222222"
      ]
     },
     "execution_count": 35,
     "metadata": {},
     "output_type": "execute_result"
    }
   ],
   "source": [
    "ds.R_score"
   ]
  },
  {
   "cell_type": "markdown",
   "metadata": {},
   "source": [
    "This is where we draw new samples from the area of a high probability of forming plates from the gaussian process classifier. The majority of the code comes from design_space.py"
   ]
  },
  {
   "cell_type": "code",
   "execution_count": 46,
   "metadata": {},
   "outputs": [],
   "source": [
    "n_samples = 46\n",
    "sample_array = np.array([0,0,0,0,0]).reshape(1,-1) \n",
    "while sample_array.shape[0] < (n_samples+1):\n",
    "    sample = np.random.rand(1,5)[0].reshape(1,-1)\n",
    "    if ds.check_design_space(sample) == 1:\n",
    "        sample_array = np.vstack((sample_array, sample))\n",
    "sample_array = np.delete(sample_array, 0, axis=0) #Sample array contains fractions from 0-1 of the concentrations from x data\n",
    "concentration_array = sample_array*(np.max(x, axis=0) - np.min(x, axis=0)) + np.min(x, axis=0) #concentration array contains the concentrations of the new samples based on x data\n",
    "min_conc = np.min(concentration_array, axis=0)\n",
    "max_conc = np.max(concentration_array, axis=0)\n",
    "sample_volume = 325\n",
    "max_vol = 60\n",
    "stock_conc = max_conc*sample_volume/max_vol\n",
    "stock_conc = np.array([2,2,2,2,0.025])\n",
    "stock_vol = concentration_array*sample_volume/stock_conc\n",
    "volumes = np.round(stock_vol).astype(int)"
   ]
  },
  {
   "cell_type": "code",
   "execution_count": 47,
   "metadata": {},
   "outputs": [],
   "source": [
    "Water = 325 - np.sum(volumes, axis=1).reshape(-1,1)\n",
    "vol_array = np.hstack((volumes[:,0].reshape(-1,1), Water.reshape(-1,1), volumes[:,1:]))"
   ]
  },
  {
   "cell_type": "code",
   "execution_count": 48,
   "metadata": {
    "scrolled": true
   },
   "outputs": [
    {
     "data": {
      "text/html": [
       "<div>\n",
       "<style scoped>\n",
       "    .dataframe tbody tr th:only-of-type {\n",
       "        vertical-align: middle;\n",
       "    }\n",
       "\n",
       "    .dataframe tbody tr th {\n",
       "        vertical-align: top;\n",
       "    }\n",
       "\n",
       "    .dataframe thead th {\n",
       "        text-align: right;\n",
       "    }\n",
       "</style>\n",
       "<table border=\"1\" class=\"dataframe\">\n",
       "  <thead>\n",
       "    <tr style=\"text-align: right;\">\n",
       "      <th></th>\n",
       "      <th>2mM_PVP-stock</th>\n",
       "      <th>Water-stock</th>\n",
       "      <th>2mM_TA-stock</th>\n",
       "      <th>2mM_AA-stock</th>\n",
       "      <th>2mM_SN-stock</th>\n",
       "      <th>0.025mM_Seeds-stock</th>\n",
       "    </tr>\n",
       "  </thead>\n",
       "  <tbody>\n",
       "    <tr>\n",
       "      <th>0</th>\n",
       "      <td>12</td>\n",
       "      <td>227</td>\n",
       "      <td>13</td>\n",
       "      <td>20</td>\n",
       "      <td>52</td>\n",
       "      <td>1</td>\n",
       "    </tr>\n",
       "    <tr>\n",
       "      <th>1</th>\n",
       "      <td>49</td>\n",
       "      <td>155</td>\n",
       "      <td>20</td>\n",
       "      <td>31</td>\n",
       "      <td>30</td>\n",
       "      <td>40</td>\n",
       "    </tr>\n",
       "    <tr>\n",
       "      <th>2</th>\n",
       "      <td>28</td>\n",
       "      <td>177</td>\n",
       "      <td>11</td>\n",
       "      <td>32</td>\n",
       "      <td>28</td>\n",
       "      <td>49</td>\n",
       "    </tr>\n",
       "    <tr>\n",
       "      <th>3</th>\n",
       "      <td>23</td>\n",
       "      <td>132</td>\n",
       "      <td>19</td>\n",
       "      <td>45</td>\n",
       "      <td>54</td>\n",
       "      <td>52</td>\n",
       "    </tr>\n",
       "    <tr>\n",
       "      <th>4</th>\n",
       "      <td>8</td>\n",
       "      <td>244</td>\n",
       "      <td>7</td>\n",
       "      <td>23</td>\n",
       "      <td>11</td>\n",
       "      <td>32</td>\n",
       "    </tr>\n",
       "    <tr>\n",
       "      <th>5</th>\n",
       "      <td>13</td>\n",
       "      <td>235</td>\n",
       "      <td>11</td>\n",
       "      <td>14</td>\n",
       "      <td>12</td>\n",
       "      <td>40</td>\n",
       "    </tr>\n",
       "    <tr>\n",
       "      <th>6</th>\n",
       "      <td>23</td>\n",
       "      <td>173</td>\n",
       "      <td>21</td>\n",
       "      <td>23</td>\n",
       "      <td>33</td>\n",
       "      <td>52</td>\n",
       "    </tr>\n",
       "    <tr>\n",
       "      <th>7</th>\n",
       "      <td>28</td>\n",
       "      <td>188</td>\n",
       "      <td>39</td>\n",
       "      <td>25</td>\n",
       "      <td>14</td>\n",
       "      <td>31</td>\n",
       "    </tr>\n",
       "    <tr>\n",
       "      <th>8</th>\n",
       "      <td>25</td>\n",
       "      <td>174</td>\n",
       "      <td>21</td>\n",
       "      <td>31</td>\n",
       "      <td>26</td>\n",
       "      <td>48</td>\n",
       "    </tr>\n",
       "    <tr>\n",
       "      <th>9</th>\n",
       "      <td>2</td>\n",
       "      <td>259</td>\n",
       "      <td>6</td>\n",
       "      <td>11</td>\n",
       "      <td>38</td>\n",
       "      <td>9</td>\n",
       "    </tr>\n",
       "    <tr>\n",
       "      <th>10</th>\n",
       "      <td>11</td>\n",
       "      <td>231</td>\n",
       "      <td>4</td>\n",
       "      <td>7</td>\n",
       "      <td>18</td>\n",
       "      <td>54</td>\n",
       "    </tr>\n",
       "    <tr>\n",
       "      <th>11</th>\n",
       "      <td>46</td>\n",
       "      <td>184</td>\n",
       "      <td>7</td>\n",
       "      <td>18</td>\n",
       "      <td>29</td>\n",
       "      <td>41</td>\n",
       "    </tr>\n",
       "    <tr>\n",
       "      <th>12</th>\n",
       "      <td>25</td>\n",
       "      <td>197</td>\n",
       "      <td>9</td>\n",
       "      <td>23</td>\n",
       "      <td>30</td>\n",
       "      <td>41</td>\n",
       "    </tr>\n",
       "    <tr>\n",
       "      <th>13</th>\n",
       "      <td>16</td>\n",
       "      <td>197</td>\n",
       "      <td>14</td>\n",
       "      <td>35</td>\n",
       "      <td>19</td>\n",
       "      <td>44</td>\n",
       "    </tr>\n",
       "    <tr>\n",
       "      <th>14</th>\n",
       "      <td>24</td>\n",
       "      <td>192</td>\n",
       "      <td>17</td>\n",
       "      <td>42</td>\n",
       "      <td>24</td>\n",
       "      <td>26</td>\n",
       "    </tr>\n",
       "    <tr>\n",
       "      <th>15</th>\n",
       "      <td>31</td>\n",
       "      <td>165</td>\n",
       "      <td>14</td>\n",
       "      <td>38</td>\n",
       "      <td>35</td>\n",
       "      <td>42</td>\n",
       "    </tr>\n",
       "    <tr>\n",
       "      <th>16</th>\n",
       "      <td>25</td>\n",
       "      <td>217</td>\n",
       "      <td>9</td>\n",
       "      <td>10</td>\n",
       "      <td>11</td>\n",
       "      <td>53</td>\n",
       "    </tr>\n",
       "    <tr>\n",
       "      <th>17</th>\n",
       "      <td>50</td>\n",
       "      <td>122</td>\n",
       "      <td>42</td>\n",
       "      <td>41</td>\n",
       "      <td>22</td>\n",
       "      <td>48</td>\n",
       "    </tr>\n",
       "    <tr>\n",
       "      <th>18</th>\n",
       "      <td>34</td>\n",
       "      <td>200</td>\n",
       "      <td>27</td>\n",
       "      <td>15</td>\n",
       "      <td>26</td>\n",
       "      <td>23</td>\n",
       "    </tr>\n",
       "    <tr>\n",
       "      <th>19</th>\n",
       "      <td>33</td>\n",
       "      <td>246</td>\n",
       "      <td>15</td>\n",
       "      <td>8</td>\n",
       "      <td>6</td>\n",
       "      <td>17</td>\n",
       "    </tr>\n",
       "    <tr>\n",
       "      <th>20</th>\n",
       "      <td>40</td>\n",
       "      <td>125</td>\n",
       "      <td>45</td>\n",
       "      <td>27</td>\n",
       "      <td>36</td>\n",
       "      <td>52</td>\n",
       "    </tr>\n",
       "    <tr>\n",
       "      <th>21</th>\n",
       "      <td>19</td>\n",
       "      <td>242</td>\n",
       "      <td>18</td>\n",
       "      <td>16</td>\n",
       "      <td>10</td>\n",
       "      <td>20</td>\n",
       "    </tr>\n",
       "    <tr>\n",
       "      <th>22</th>\n",
       "      <td>15</td>\n",
       "      <td>183</td>\n",
       "      <td>13</td>\n",
       "      <td>42</td>\n",
       "      <td>48</td>\n",
       "      <td>24</td>\n",
       "    </tr>\n",
       "    <tr>\n",
       "      <th>23</th>\n",
       "      <td>26</td>\n",
       "      <td>219</td>\n",
       "      <td>5</td>\n",
       "      <td>22</td>\n",
       "      <td>31</td>\n",
       "      <td>22</td>\n",
       "    </tr>\n",
       "    <tr>\n",
       "      <th>24</th>\n",
       "      <td>18</td>\n",
       "      <td>215</td>\n",
       "      <td>30</td>\n",
       "      <td>34</td>\n",
       "      <td>6</td>\n",
       "      <td>22</td>\n",
       "    </tr>\n",
       "    <tr>\n",
       "      <th>25</th>\n",
       "      <td>15</td>\n",
       "      <td>179</td>\n",
       "      <td>19</td>\n",
       "      <td>4</td>\n",
       "      <td>52</td>\n",
       "      <td>56</td>\n",
       "    </tr>\n",
       "    <tr>\n",
       "      <th>26</th>\n",
       "      <td>39</td>\n",
       "      <td>145</td>\n",
       "      <td>28</td>\n",
       "      <td>22</td>\n",
       "      <td>47</td>\n",
       "      <td>44</td>\n",
       "    </tr>\n",
       "    <tr>\n",
       "      <th>27</th>\n",
       "      <td>4</td>\n",
       "      <td>188</td>\n",
       "      <td>1</td>\n",
       "      <td>38</td>\n",
       "      <td>46</td>\n",
       "      <td>48</td>\n",
       "    </tr>\n",
       "    <tr>\n",
       "      <th>28</th>\n",
       "      <td>24</td>\n",
       "      <td>222</td>\n",
       "      <td>6</td>\n",
       "      <td>19</td>\n",
       "      <td>13</td>\n",
       "      <td>41</td>\n",
       "    </tr>\n",
       "    <tr>\n",
       "      <th>29</th>\n",
       "      <td>35</td>\n",
       "      <td>132</td>\n",
       "      <td>27</td>\n",
       "      <td>57</td>\n",
       "      <td>28</td>\n",
       "      <td>46</td>\n",
       "    </tr>\n",
       "    <tr>\n",
       "      <th>30</th>\n",
       "      <td>33</td>\n",
       "      <td>160</td>\n",
       "      <td>37</td>\n",
       "      <td>21</td>\n",
       "      <td>25</td>\n",
       "      <td>49</td>\n",
       "    </tr>\n",
       "    <tr>\n",
       "      <th>31</th>\n",
       "      <td>7</td>\n",
       "      <td>264</td>\n",
       "      <td>19</td>\n",
       "      <td>2</td>\n",
       "      <td>22</td>\n",
       "      <td>11</td>\n",
       "    </tr>\n",
       "    <tr>\n",
       "      <th>32</th>\n",
       "      <td>44</td>\n",
       "      <td>173</td>\n",
       "      <td>19</td>\n",
       "      <td>6</td>\n",
       "      <td>50</td>\n",
       "      <td>33</td>\n",
       "    </tr>\n",
       "    <tr>\n",
       "      <th>33</th>\n",
       "      <td>10</td>\n",
       "      <td>148</td>\n",
       "      <td>32</td>\n",
       "      <td>45</td>\n",
       "      <td>41</td>\n",
       "      <td>49</td>\n",
       "    </tr>\n",
       "    <tr>\n",
       "      <th>34</th>\n",
       "      <td>26</td>\n",
       "      <td>239</td>\n",
       "      <td>4</td>\n",
       "      <td>19</td>\n",
       "      <td>15</td>\n",
       "      <td>22</td>\n",
       "    </tr>\n",
       "    <tr>\n",
       "      <th>35</th>\n",
       "      <td>53</td>\n",
       "      <td>174</td>\n",
       "      <td>13</td>\n",
       "      <td>16</td>\n",
       "      <td>22</td>\n",
       "      <td>47</td>\n",
       "    </tr>\n",
       "    <tr>\n",
       "      <th>36</th>\n",
       "      <td>23</td>\n",
       "      <td>144</td>\n",
       "      <td>18</td>\n",
       "      <td>38</td>\n",
       "      <td>54</td>\n",
       "      <td>48</td>\n",
       "    </tr>\n",
       "    <tr>\n",
       "      <th>37</th>\n",
       "      <td>58</td>\n",
       "      <td>180</td>\n",
       "      <td>6</td>\n",
       "      <td>22</td>\n",
       "      <td>22</td>\n",
       "      <td>37</td>\n",
       "    </tr>\n",
       "    <tr>\n",
       "      <th>38</th>\n",
       "      <td>28</td>\n",
       "      <td>174</td>\n",
       "      <td>40</td>\n",
       "      <td>23</td>\n",
       "      <td>5</td>\n",
       "      <td>55</td>\n",
       "    </tr>\n",
       "    <tr>\n",
       "      <th>39</th>\n",
       "      <td>58</td>\n",
       "      <td>145</td>\n",
       "      <td>20</td>\n",
       "      <td>18</td>\n",
       "      <td>35</td>\n",
       "      <td>49</td>\n",
       "    </tr>\n",
       "    <tr>\n",
       "      <th>40</th>\n",
       "      <td>11</td>\n",
       "      <td>218</td>\n",
       "      <td>10</td>\n",
       "      <td>4</td>\n",
       "      <td>34</td>\n",
       "      <td>48</td>\n",
       "    </tr>\n",
       "    <tr>\n",
       "      <th>41</th>\n",
       "      <td>28</td>\n",
       "      <td>190</td>\n",
       "      <td>8</td>\n",
       "      <td>27</td>\n",
       "      <td>38</td>\n",
       "      <td>34</td>\n",
       "    </tr>\n",
       "    <tr>\n",
       "      <th>42</th>\n",
       "      <td>27</td>\n",
       "      <td>251</td>\n",
       "      <td>20</td>\n",
       "      <td>9</td>\n",
       "      <td>9</td>\n",
       "      <td>9</td>\n",
       "    </tr>\n",
       "    <tr>\n",
       "      <th>43</th>\n",
       "      <td>13</td>\n",
       "      <td>193</td>\n",
       "      <td>14</td>\n",
       "      <td>39</td>\n",
       "      <td>51</td>\n",
       "      <td>15</td>\n",
       "    </tr>\n",
       "    <tr>\n",
       "      <th>44</th>\n",
       "      <td>34</td>\n",
       "      <td>112</td>\n",
       "      <td>33</td>\n",
       "      <td>55</td>\n",
       "      <td>45</td>\n",
       "      <td>46</td>\n",
       "    </tr>\n",
       "    <tr>\n",
       "      <th>45</th>\n",
       "      <td>43</td>\n",
       "      <td>165</td>\n",
       "      <td>29</td>\n",
       "      <td>28</td>\n",
       "      <td>24</td>\n",
       "      <td>36</td>\n",
       "    </tr>\n",
       "  </tbody>\n",
       "</table>\n",
       "</div>"
      ],
      "text/plain": [
       "    2mM_PVP-stock  Water-stock  2mM_TA-stock  2mM_AA-stock  2mM_SN-stock  \\\n",
       "0              12          227            13            20            52   \n",
       "1              49          155            20            31            30   \n",
       "2              28          177            11            32            28   \n",
       "3              23          132            19            45            54   \n",
       "4               8          244             7            23            11   \n",
       "5              13          235            11            14            12   \n",
       "6              23          173            21            23            33   \n",
       "7              28          188            39            25            14   \n",
       "8              25          174            21            31            26   \n",
       "9               2          259             6            11            38   \n",
       "10             11          231             4             7            18   \n",
       "11             46          184             7            18            29   \n",
       "12             25          197             9            23            30   \n",
       "13             16          197            14            35            19   \n",
       "14             24          192            17            42            24   \n",
       "15             31          165            14            38            35   \n",
       "16             25          217             9            10            11   \n",
       "17             50          122            42            41            22   \n",
       "18             34          200            27            15            26   \n",
       "19             33          246            15             8             6   \n",
       "20             40          125            45            27            36   \n",
       "21             19          242            18            16            10   \n",
       "22             15          183            13            42            48   \n",
       "23             26          219             5            22            31   \n",
       "24             18          215            30            34             6   \n",
       "25             15          179            19             4            52   \n",
       "26             39          145            28            22            47   \n",
       "27              4          188             1            38            46   \n",
       "28             24          222             6            19            13   \n",
       "29             35          132            27            57            28   \n",
       "30             33          160            37            21            25   \n",
       "31              7          264            19             2            22   \n",
       "32             44          173            19             6            50   \n",
       "33             10          148            32            45            41   \n",
       "34             26          239             4            19            15   \n",
       "35             53          174            13            16            22   \n",
       "36             23          144            18            38            54   \n",
       "37             58          180             6            22            22   \n",
       "38             28          174            40            23             5   \n",
       "39             58          145            20            18            35   \n",
       "40             11          218            10             4            34   \n",
       "41             28          190             8            27            38   \n",
       "42             27          251            20             9             9   \n",
       "43             13          193            14            39            51   \n",
       "44             34          112            33            55            45   \n",
       "45             43          165            29            28            24   \n",
       "\n",
       "    0.025mM_Seeds-stock  \n",
       "0                     1  \n",
       "1                    40  \n",
       "2                    49  \n",
       "3                    52  \n",
       "4                    32  \n",
       "5                    40  \n",
       "6                    52  \n",
       "7                    31  \n",
       "8                    48  \n",
       "9                     9  \n",
       "10                   54  \n",
       "11                   41  \n",
       "12                   41  \n",
       "13                   44  \n",
       "14                   26  \n",
       "15                   42  \n",
       "16                   53  \n",
       "17                   48  \n",
       "18                   23  \n",
       "19                   17  \n",
       "20                   52  \n",
       "21                   20  \n",
       "22                   24  \n",
       "23                   22  \n",
       "24                   22  \n",
       "25                   56  \n",
       "26                   44  \n",
       "27                   48  \n",
       "28                   41  \n",
       "29                   46  \n",
       "30                   49  \n",
       "31                   11  \n",
       "32                   33  \n",
       "33                   49  \n",
       "34                   22  \n",
       "35                   47  \n",
       "36                   48  \n",
       "37                   37  \n",
       "38                   55  \n",
       "39                   49  \n",
       "40                   48  \n",
       "41                   34  \n",
       "42                    9  \n",
       "43                   15  \n",
       "44                   46  \n",
       "45                   36  "
      ]
     },
     "execution_count": 48,
     "metadata": {},
     "output_type": "execute_result"
    }
   ],
   "source": [
    "df = pd.DataFrame(vol_array, columns=['2mM_PVP-stock', 'Water-stock','2mM_TA-stock','2mM_AA-stock', '2mM_SN-stock', '0.025mM_Seeds-stock'])\n",
    "df"
   ]
  },
  {
   "cell_type": "markdown",
   "metadata": {},
   "source": [
    "Histograms to visualize any changes in the volumes that were sampled "
   ]
  },
  {
   "cell_type": "code",
   "execution_count": 49,
   "metadata": {
    "scrolled": true
   },
   "outputs": [
    {
     "data": {
      "image/png": "[encoded data removed]",
      "text/plain": [
       "<Figure size 288x288 with 1 Axes>"
      ]
     },
     "metadata": {
      "needs_background": "light"
     },
     "output_type": "display_data"
    },
    {
     "data": {
      "image/png": "[encoded data removed]",
      "text/plain": [
       "<Figure size 288x288 with 1 Axes>"
      ]
     },
     "metadata": {
      "needs_background": "light"
     },
     "output_type": "display_data"
    },
    {
     "data": {
      "image/png": "[encoded data removed]",
      "text/plain": [
       "<Figure size 288x288 with 1 Axes>"
      ]
     },
     "metadata": {
      "needs_background": "light"
     },
     "output_type": "display_data"
    },
    {
     "data": {
      "image/png": "[encoded data removed]",
      "text/plain": [
       "<Figure size 288x288 with 1 Axes>"
      ]
     },
     "metadata": {
      "needs_background": "light"
     },
     "output_type": "display_data"
    },
    {
     "data": {
      "image/png": "[encoded data removed]",
      "text/plain": [
       "<Figure size 288x288 with 1 Axes>"
      ]
     },
     "metadata": {
      "needs_background": "light"
     },
     "output_type": "display_data"
    },
    {
     "data": {
      "image/png": "[encoded data removed]",
      "text/plain": [
       "<Figure size 288x288 with 1 Axes>"
      ]
     },
     "metadata": {
      "needs_background": "light"
     },
     "output_type": "display_data"
    }
   ],
   "source": [
    "for i in range(6):\n",
    "    fig, axs = plt.subplots(1, 1,\n",
    "                            figsize =(4, 4),\n",
    "                            tight_layout = True)\n",
    "\n",
    "    axs.hist(df.iloc[:,i], bins = 7)"
   ]
  },
  {
   "cell_type": "code",
   "execution_count": 78,
   "metadata": {},
   "outputs": [],
   "source": [
    "#df.to_csv('Volumes_6.csv', index = False)"
   ]
  }
 ],
 "metadata": {
  "colab": {
   "provenance": []
  },
  "kernelspec": {
   "display_name": "Python 3 (ipykernel)",
   "language": "python",
   "name": "python3"
  },
  "language_info": {
   "codemirror_mode": {
    "name": "ipython",
    "version": 3
   },
   "file_extension": ".py",
   "mimetype": "text/x-python",
   "name": "python",
   "nbconvert_exporter": "python",
   "pygments_lexer": "ipython3",
   "version": "3.9.7"
  }
 },
 "nbformat": 4,
 "nbformat_minor": 1
}
