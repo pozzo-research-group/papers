{
 "cells": [
  {
   "cell_type": "markdown",
   "metadata": {},
   "source": [
    "This notebook provides Python code to perform a pipetting protocol to synthesized AuNP particles using the procedure described in the manuscript."
   ]
  },
  {
   "cell_type": "code",
   "execution_count": 1,
   "metadata": {},
   "outputs": [],
   "source": [
    "from opentrons.simulate import get_protocol_api\n",
    "\n",
    "import json \n",
    "import pandas as pd \n",
    "from datetime import datetime\n",
    "from pytz import timezone \n",
    "Pacific = timezone('US/Pacific')\n",
    "from IPython.display import clear_output\n",
    "import time"
   ]
  },
  {
   "cell_type": "code",
   "execution_count": 2,
   "metadata": {},
   "outputs": [
    {
     "data": {
      "text/html": [
       "<div>\n",
       "<style scoped>\n",
       "    .dataframe tbody tr th:only-of-type {\n",
       "        vertical-align: middle;\n",
       "    }\n",
       "\n",
       "    .dataframe tbody tr th {\n",
       "        vertical-align: top;\n",
       "    }\n",
       "\n",
       "    .dataframe thead th {\n",
       "        text-align: right;\n",
       "    }\n",
       "</style>\n",
       "<table border=\"1\" class=\"dataframe\">\n",
       "  <thead>\n",
       "    <tr style=\"text-align: right;\">\n",
       "      <th></th>\n",
       "      <th>CTAB</th>\n",
       "      <th>Water</th>\n",
       "      <th>GCH</th>\n",
       "      <th>AA</th>\n",
       "      <th>SN</th>\n",
       "      <th>GS</th>\n",
       "    </tr>\n",
       "  </thead>\n",
       "  <tbody>\n",
       "    <tr>\n",
       "      <th>0</th>\n",
       "      <td>96</td>\n",
       "      <td>115</td>\n",
       "      <td>59</td>\n",
       "      <td>1</td>\n",
       "      <td>5</td>\n",
       "      <td>24</td>\n",
       "    </tr>\n",
       "    <tr>\n",
       "      <th>1</th>\n",
       "      <td>96</td>\n",
       "      <td>66</td>\n",
       "      <td>59</td>\n",
       "      <td>23</td>\n",
       "      <td>32</td>\n",
       "      <td>24</td>\n",
       "    </tr>\n",
       "    <tr>\n",
       "      <th>2</th>\n",
       "      <td>96</td>\n",
       "      <td>84</td>\n",
       "      <td>59</td>\n",
       "      <td>6</td>\n",
       "      <td>31</td>\n",
       "      <td>24</td>\n",
       "    </tr>\n",
       "    <tr>\n",
       "      <th>3</th>\n",
       "      <td>96</td>\n",
       "      <td>85</td>\n",
       "      <td>59</td>\n",
       "      <td>24</td>\n",
       "      <td>12</td>\n",
       "      <td>24</td>\n",
       "    </tr>\n",
       "    <tr>\n",
       "      <th>4</th>\n",
       "      <td>96</td>\n",
       "      <td>90</td>\n",
       "      <td>59</td>\n",
       "      <td>27</td>\n",
       "      <td>4</td>\n",
       "      <td>24</td>\n",
       "    </tr>\n",
       "    <tr>\n",
       "      <th>5</th>\n",
       "      <td>96</td>\n",
       "      <td>88</td>\n",
       "      <td>59</td>\n",
       "      <td>29</td>\n",
       "      <td>4</td>\n",
       "      <td>24</td>\n",
       "    </tr>\n",
       "  </tbody>\n",
       "</table>\n",
       "</div>"
      ],
      "text/plain": [
       "   CTAB  Water  GCH  AA  SN  GS\n",
       "0    96    115   59   1   5  24\n",
       "1    96     66   59  23  32  24\n",
       "2    96     84   59   6  31  24\n",
       "3    96     85   59  24  12  24\n",
       "4    96     90   59  27   4  24\n",
       "5    96     88   59  29   4  24"
      ]
     },
     "execution_count": 2,
     "metadata": {},
     "output_type": "execute_result"
    }
   ],
   "source": [
    "START_WELL = \"F1\"\n",
    "volume_df = pd.read_csv('./opentrons/volumes_2.csv')\n",
    "volume_df"
   ]
  },
  {
   "cell_type": "code",
   "execution_count": 3,
   "metadata": {},
   "outputs": [
    {
     "name": "stderr",
     "output_type": "stream",
     "text": [
      "/Users/pozzolabadmin/.opentrons/robot_settings.json not found. Loading defaults\n",
      "Deck calibration not found.\n",
      "/Users/pozzolabadmin/.opentrons/deck_calibration.json not found. Loading defaults\n"
     ]
    }
   ],
   "source": [
    "protocol = get_protocol_api('2.18')\n",
    "CUSTOM_LABWARE_PATH = \"../opentrons_custom_labware/\"\n",
    "protocol.home()"
   ]
  },
  {
   "cell_type": "code",
   "execution_count": 4,
   "metadata": {},
   "outputs": [],
   "source": [
    "protocol.set_rail_lights(True)"
   ]
  },
  {
   "cell_type": "code",
   "execution_count": 5,
   "metadata": {},
   "outputs": [],
   "source": [
    "# load all the labware modules\n",
    "\n",
    "# Load 300 µL pipette and tiprack\n",
    "tiprack_300 = protocol.load_labware(\n",
    "    load_name=\"opentrons_96_tiprack_300ul\",\n",
    "    location=7)\n",
    "\n",
    "p300 = protocol.load_instrument(\n",
    "    instrument_name=\"p300_single_gen2\",\n",
    "    mount=\"right\",\n",
    "    tip_racks=[tiprack_300]\n",
    "    )\n",
    "\n",
    "# Load 20 µL pipette and tiprack\n",
    "tiprack_20 = protocol.load_labware(\n",
    "    load_name=\"opentrons_96_tiprack_20ul\",\n",
    "    location=4)\n",
    "\n",
    "p20 = protocol.load_instrument(\n",
    "    instrument_name=\"p20_single_gen2\",\n",
    "    mount=\"left\",\n",
    "    tip_racks=[tiprack_20]\n",
    "    )\n",
    "\n",
    "# Load a custom holder for stock solutions\n",
    "with open(CUSTOM_LABWARE_PATH+'20mlscintillation_12_wellplate_18000ul.json') as labware_file:\n",
    "    stocks_def = json.load(labware_file)\n",
    "    stocks = protocol.load_labware_from_definition(stocks_def, location=1)\n",
    "\n",
    "# Load temperature module\n",
    "# The temperature module is used to keep the growth solution at 30 degree celsius\n",
    "# The well plate is loaded on top of a alumnium adapter \n",
    "temp_module = protocol.load_module(module_name=\"temperature module gen2\", location=6)\n",
    "alplate_adapter = temp_module.load_adapter(\"opentrons_aluminum_flat_bottom_plate\")\n",
    "plate = alplate_adapter.load_labware('corning_96_wellplate_360ul_flat')\n",
    "temp_module.set_temperature(celsius=30)"
   ]
  },
  {
   "cell_type": "code",
   "execution_count": 6,
   "metadata": {},
   "outputs": [],
   "source": [
    "# Offset modules based on manual insepection\n",
    "tiprack_300.set_offset(x=0.50, y=1.10, z=0.00)\n",
    "tiprack_20.set_offset(x=0.00, y=0.90, z=0.00)\n",
    "plate.set_offset(x=0.00, y=1.50, z=0.00)"
   ]
  },
  {
   "cell_type": "code",
   "execution_count": 7,
   "metadata": {},
   "outputs": [],
   "source": [
    "tiprack_20_wells = [well for row in tiprack_20.rows() for well in row]\n",
    "tiprack_300_wells = [well for row in tiprack_300.rows() for well in row]\n",
    "stocks_wells = [well for row in stocks.rows() for well in row]\n",
    "plate_wells = [well for row in plate.rows() for well in row]"
   ]
  },
  {
   "cell_type": "code",
   "execution_count": 8,
   "metadata": {},
   "outputs": [
    {
     "name": "stdout",
     "output_type": "stream",
     "text": [
      "The index of well F1 is 60.\n"
     ]
    }
   ],
   "source": [
    "START_WELL_INDEX = next((i for i, well in enumerate(plate_wells) if well.well_name == START_WELL), None)\n",
    "if START_WELL_INDEX is not None:\n",
    "    print(f\"The index of well {START_WELL} is {START_WELL_INDEX}.\")\n",
    "else:\n",
    "    print(f\"Well {START_WELL} not found.\")"
   ]
  },
  {
   "cell_type": "code",
   "execution_count": 9,
   "metadata": {},
   "outputs": [],
   "source": [
    "def synthesize(stock_index, ds):\n",
    "    \"\"\" Synthesize AuNP by mixing components\n",
    "\n",
    "    stock_index : index of the stock to add (int)\n",
    "    ds : a pandas dataseries with volumes to be added. \n",
    "\n",
    "    Each pipetting step involves selecting a relevant pipette based on the volume,\n",
    "    using it to aspirate from the source well (stock) and dispensing it in a target location\n",
    "    on the well plate.\n",
    "\n",
    "    \"\"\"\n",
    "    p20.pick_up_tip(tiprack_20_wells[int(stock_index)])\n",
    "    p300.pick_up_tip(tiprack_300_wells[int(stock_index)])\n",
    "    has_used_p20, has_used_p300 = False, False\n",
    "    for index, value in ds.items():\n",
    "        if value<20:\n",
    "            pipette = p20 \n",
    "            has_used_p20 = True\n",
    "        else:\n",
    "            pipette = p300\n",
    "            has_used_p300 = True\n",
    "        source_well = stocks_wells[int(stock_index)]\n",
    "        target_well = plate_wells[int(index) + START_WELL_INDEX]\n",
    "        print(\"Dispensing %s of %d from %s into well %s \"%(ds.name, \n",
    "                                                           value, \n",
    "                                                           source_well.well_name, \n",
    "                                                           target_well.well_name)\n",
    "                                                           ,end='\\r', \n",
    "                                                           flush=False\n",
    "                                                           )\n",
    "        pipette.aspirate(value, source_well)\n",
    "        pipette.dispense(value, target_well.top())\n",
    "        if not stock_index==0: # only do this for non-CTAB components\n",
    "            pipette.blow_out()\n",
    "\n",
    "    if has_used_p20:\n",
    "        p20.drop_tip()\n",
    "    else:\n",
    "        p20.return_tip()\n",
    "\n",
    "    if has_used_p300:\n",
    "        p300.drop_tip()\n",
    "    else:\n",
    "        p300.return_tip()"
   ]
  },
  {
   "cell_type": "code",
   "execution_count": 10,
   "metadata": {},
   "outputs": [
    {
     "name": "stdout",
     "output_type": "stream",
     "text": [
      "Dispensing CTAB of 96 from A1 into well F1 \n",
      "Dispensing CTAB of 96 from A1 into well F2 \n",
      "Dispensing CTAB of 96 from A1 into well F3 \n",
      "Dispensing CTAB of 96 from A1 into well F4 \n",
      "Dispensing CTAB of 96 from A1 into well F5 \n",
      "Dispensing CTAB of 96 from A1 into well F6 \n",
      "Dispensing Water of 115 from A2 into well F1 \n",
      "Dispensing Water of 66 from A2 into well F2 \n",
      "Dispensing Water of 84 from A2 into well F3 \n",
      "Dispensing Water of 85 from A2 into well F4 \n",
      "Dispensing Water of 90 from A2 into well F5 \n",
      "Dispensing Water of 88 from A2 into well F6 \n",
      "Dispensing GCH of 59 from A3 into well F1 \n",
      "Dispensing GCH of 59 from A3 into well F2 \n",
      "Dispensing GCH of 59 from A3 into well F3 \n",
      "Dispensing GCH of 59 from A3 into well F4 \n",
      "Dispensing GCH of 59 from A3 into well F5 \n",
      "Dispensing GCH of 59 from A3 into well F6 \n",
      "Dispensing AA of 1 from A4 into well F1 \n",
      "Dispensing AA of 23 from A4 into well F2 \n",
      "Dispensing AA of 6 from A4 into well F3 \n",
      "Dispensing AA of 24 from A4 into well F4 \n",
      "Dispensing AA of 27 from A4 into well F5 \n",
      "Dispensing AA of 29 from A4 into well F6 \n",
      "Dispensing SN of 5 from B1 into well F1 \n",
      "Dispensing SN of 32 from B1 into well F2 \n",
      "Dispensing SN of 31 from B1 into well F3 \n",
      "Dispensing SN of 12 from B1 into well F4 \n",
      "Dispensing SN of 4 from B1 into well F5 \n",
      "Dispensing SN of 4 from B1 into well F6 \n",
      "Dispensing GS of 24 from B2 into well F1 \n",
      "Dispensing GS of 24 from B2 into well F2 \n",
      "Dispensing GS of 24 from B2 into well F3 \n",
      "Dispensing GS of 24 from B2 into well F4 \n",
      "Dispensing GS of 24 from B2 into well F5 \n",
      "Dispensing GS of 24 from B2 into well F6 \n"
     ]
    }
   ],
   "source": [
    "for stock_index,(_, stock_vol_series)  in enumerate(volume_df.items()):\n",
    "    synthesize(stock_index, stock_vol_series)"
   ]
  },
  {
   "cell_type": "code",
   "execution_count": 11,
   "metadata": {},
   "outputs": [
    {
     "name": "stdout",
     "output_type": "stream",
     "text": [
      "End Time: 15:30:11\n"
     ]
    }
   ],
   "source": [
    "current_date_time = datetime.now(Pacific)\n",
    "print(current_date_time.strftime('End Time: %H:%M:%S'))"
   ]
  },
  {
   "cell_type": "code",
   "execution_count": 12,
   "metadata": {},
   "outputs": [],
   "source": [
    "protocol.set_rail_lights(False)"
   ]
  },
  {
   "cell_type": "code",
   "execution_count": 13,
   "metadata": {},
   "outputs": [],
   "source": [
    "protocol.home()"
   ]
  },
  {
   "cell_type": "code",
   "execution_count": 14,
   "metadata": {},
   "outputs": [
    {
     "name": "stdout",
     "output_type": "stream",
     "text": [
      "Keeping the temperature module on for 30 mins at the initial temperature\n"
     ]
    }
   ],
   "source": [
    "print(\"Keeping the temperature module on for 30 mins at the initial temperature\")"
   ]
  },
  {
   "cell_type": "code",
   "execution_count": 15,
   "metadata": {},
   "outputs": [
    {
     "name": "stdout",
     "output_type": "stream",
     "text": [
      "Time's up!\n"
     ]
    }
   ],
   "source": [
    "def countdown(minutes):\n",
    "    total_seconds = minutes * 60\n",
    "    for remaining in range(total_seconds, 0, -1):\n",
    "        # Convert seconds to minutes and seconds\n",
    "        mins, secs = divmod(remaining, 60)\n",
    "        # Clear output in the notebook for a clean update\n",
    "        clear_output(wait=True)\n",
    "        print(f\"Time remaining: {mins:02d}:{secs:02d}\")\n",
    "        time.sleep(1)\n",
    "    clear_output(wait=True)\n",
    "    print(\"Time's up!\")\n",
    "\n",
    "# Start a 30-minute countdown\n",
    "countdown(1)\n"
   ]
  },
  {
   "cell_type": "code",
   "execution_count": null,
   "metadata": {},
   "outputs": [],
   "source": []
  }
 ],
 "metadata": {
  "kernelspec": {
   "display_name": "OT2",
   "language": "python",
   "name": "python3"
  },
  "language_info": {
   "codemirror_mode": {
    "name": "ipython",
    "version": 3
   },
   "file_extension": ".py",
   "mimetype": "text/x-python",
   "name": "python",
   "nbconvert_exporter": "python",
   "pygments_lexer": "ipython3",
   "version": "3.10.0"
  }
 },
 "nbformat": 4,
 "nbformat_minor": 2
}
