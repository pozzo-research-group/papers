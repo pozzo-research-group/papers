{
  "cells": [
    {
      "cell_type": "markdown",
      "source": [
        "[![Open In Colab](https://colab.research.google.com/assets/colab-badge.svg)](https://colab.research.google.com/github/pozzo-research-group/papers/blob/qdots/qdots/SHAP.ipynb)"
      ],
      "metadata": {
        "id": "-jshxYiL7aAR"
      },
      "id": "-jshxYiL7aAR"
    },
    {
      "cell_type": "code",
      "execution_count": 8,
      "id": "27773b54",
      "metadata": {
        "id": "27773b54"
      },
      "outputs": [],
      "source": [
        "import numpy as np\n",
        "import pandas as pd\n",
        "import matplotlib.pyplot as plt\n",
        "plt.rcParams.update({\"text.usetex\": False,\n",
        "                     \"axes.spines.right\" : False,\n",
        "                     \"axes.spines.top\" : False,\n",
        "                     \"font.size\": 22,\n",
        "                     \"savefig.dpi\": 600,\n",
        "                     \"savefig.bbox\": 'tight',\n",
        "                     'text.latex.preamble': r'\\usepackage{amsfonts}'\n",
        "                    }\n",
        "                   )\n",
        "\n",
        "from sklearn.model_selection import train_test_split\n",
        "from sklearn.preprocessing import StandardScaler, QuantileTransformer\n",
        "from sklearn.impute import SimpleImputer\n",
        "\n",
        "FIGURES_DIR = './figures/shap/'\n",
        "SAVE_FIG = False"
      ]
    },
    {
      "cell_type": "code",
      "source": [
        "!git clone -b qdots https://github.com/pozzo-research-group/papers.git"
      ],
      "metadata": {
        "colab": {
          "base_uri": "https://localhost:8080/"
        },
        "id": "-9uaqtVO38NY",
        "outputId": "d5d73a60-05f4-4945-b246-fccf55500f27"
      },
      "id": "-9uaqtVO38NY",
      "execution_count": 2,
      "outputs": [
        {
          "output_type": "stream",
          "name": "stdout",
          "text": [
            "Cloning into 'papers'...\n",
            "remote: Enumerating objects: 59, done.\u001b[K\n",
            "remote: Counting objects: 100% (30/30), done.\u001b[K\n",
            "remote: Compressing objects: 100% (25/25), done.\u001b[K\n",
            "remote: Total 59 (delta 8), reused 27 (delta 5), pack-reused 29\u001b[K\n",
            "Unpacking objects: 100% (59/59), done.\n"
          ]
        }
      ]
    },
    {
      "cell_type": "code",
      "source": [
        "!pip install -q shap xgboost"
      ],
      "metadata": {
        "colab": {
          "base_uri": "https://localhost:8080/"
        },
        "id": "sAEK2EgK4ToT",
        "outputId": "fe9833ef-bb6b-467c-f550-8f35784ec5dc"
      },
      "id": "sAEK2EgK4ToT",
      "execution_count": 4,
      "outputs": [
        {
          "output_type": "stream",
          "name": "stdout",
          "text": [
            "\u001b[?25l\r\u001b[K     |▋                               | 10 kB 12.5 MB/s eta 0:00:01\r\u001b[K     |█▏                              | 20 kB 3.4 MB/s eta 0:00:01\r\u001b[K     |█▊                              | 30 kB 4.9 MB/s eta 0:00:01\r\u001b[K     |██▎                             | 40 kB 4.8 MB/s eta 0:00:01\r\u001b[K     |██▉                             | 51 kB 5.0 MB/s eta 0:00:01\r\u001b[K     |███▌                            | 61 kB 5.9 MB/s eta 0:00:01\r\u001b[K     |████                            | 71 kB 5.6 MB/s eta 0:00:01\r\u001b[K     |████▋                           | 81 kB 6.3 MB/s eta 0:00:01\r\u001b[K     |█████▏                          | 92 kB 6.5 MB/s eta 0:00:01\r\u001b[K     |█████▊                          | 102 kB 6.7 MB/s eta 0:00:01\r\u001b[K     |██████▎                         | 112 kB 6.7 MB/s eta 0:00:01\r\u001b[K     |███████                         | 122 kB 6.7 MB/s eta 0:00:01\r\u001b[K     |███████▌                        | 133 kB 6.7 MB/s eta 0:00:01\r\u001b[K     |████████                        | 143 kB 6.7 MB/s eta 0:00:01\r\u001b[K     |████████▋                       | 153 kB 6.7 MB/s eta 0:00:01\r\u001b[K     |█████████▏                      | 163 kB 6.7 MB/s eta 0:00:01\r\u001b[K     |█████████▉                      | 174 kB 6.7 MB/s eta 0:00:01\r\u001b[K     |██████████▍                     | 184 kB 6.7 MB/s eta 0:00:01\r\u001b[K     |███████████                     | 194 kB 6.7 MB/s eta 0:00:01\r\u001b[K     |███████████▌                    | 204 kB 6.7 MB/s eta 0:00:01\r\u001b[K     |████████████                    | 215 kB 6.7 MB/s eta 0:00:01\r\u001b[K     |████████████▋                   | 225 kB 6.7 MB/s eta 0:00:01\r\u001b[K     |█████████████▎                  | 235 kB 6.7 MB/s eta 0:00:01\r\u001b[K     |█████████████▉                  | 245 kB 6.7 MB/s eta 0:00:01\r\u001b[K     |██████████████▍                 | 256 kB 6.7 MB/s eta 0:00:01\r\u001b[K     |███████████████                 | 266 kB 6.7 MB/s eta 0:00:01\r\u001b[K     |███████████████▌                | 276 kB 6.7 MB/s eta 0:00:01\r\u001b[K     |████████████████                | 286 kB 6.7 MB/s eta 0:00:01\r\u001b[K     |████████████████▊               | 296 kB 6.7 MB/s eta 0:00:01\r\u001b[K     |█████████████████▎              | 307 kB 6.7 MB/s eta 0:00:01\r\u001b[K     |█████████████████▉              | 317 kB 6.7 MB/s eta 0:00:01\r\u001b[K     |██████████████████▍             | 327 kB 6.7 MB/s eta 0:00:01\r\u001b[K     |███████████████████             | 337 kB 6.7 MB/s eta 0:00:01\r\u001b[K     |███████████████████▋            | 348 kB 6.7 MB/s eta 0:00:01\r\u001b[K     |████████████████████▏           | 358 kB 6.7 MB/s eta 0:00:01\r\u001b[K     |████████████████████▊           | 368 kB 6.7 MB/s eta 0:00:01\r\u001b[K     |█████████████████████▎          | 378 kB 6.7 MB/s eta 0:00:01\r\u001b[K     |█████████████████████▉          | 389 kB 6.7 MB/s eta 0:00:01\r\u001b[K     |██████████████████████▍         | 399 kB 6.7 MB/s eta 0:00:01\r\u001b[K     |███████████████████████         | 409 kB 6.7 MB/s eta 0:00:01\r\u001b[K     |███████████████████████▋        | 419 kB 6.7 MB/s eta 0:00:01\r\u001b[K     |████████████████████████▏       | 430 kB 6.7 MB/s eta 0:00:01\r\u001b[K     |████████████████████████▊       | 440 kB 6.7 MB/s eta 0:00:01\r\u001b[K     |█████████████████████████▎      | 450 kB 6.7 MB/s eta 0:00:01\r\u001b[K     |██████████████████████████      | 460 kB 6.7 MB/s eta 0:00:01\r\u001b[K     |██████████████████████████▌     | 471 kB 6.7 MB/s eta 0:00:01\r\u001b[K     |███████████████████████████     | 481 kB 6.7 MB/s eta 0:00:01\r\u001b[K     |███████████████████████████▋    | 491 kB 6.7 MB/s eta 0:00:01\r\u001b[K     |████████████████████████████▏   | 501 kB 6.7 MB/s eta 0:00:01\r\u001b[K     |████████████████████████████▊   | 512 kB 6.7 MB/s eta 0:00:01\r\u001b[K     |█████████████████████████████▍  | 522 kB 6.7 MB/s eta 0:00:01\r\u001b[K     |██████████████████████████████  | 532 kB 6.7 MB/s eta 0:00:01\r\u001b[K     |██████████████████████████████▌ | 542 kB 6.7 MB/s eta 0:00:01\r\u001b[K     |███████████████████████████████ | 552 kB 6.7 MB/s eta 0:00:01\r\u001b[K     |███████████████████████████████▋| 563 kB 6.7 MB/s eta 0:00:01\r\u001b[K     |████████████████████████████████| 569 kB 6.7 MB/s \n",
            "\u001b[?25h"
          ]
        }
      ]
    },
    {
      "cell_type": "code",
      "execution_count": 5,
      "id": "594d4120",
      "metadata": {
        "id": "594d4120"
      },
      "outputs": [],
      "source": [
        "import shap\n",
        "import xgboost"
      ]
    },
    {
      "cell_type": "code",
      "execution_count": null,
      "id": "2e9e3b02",
      "metadata": {
        "id": "2e9e3b02"
      },
      "outputs": [],
      "source": [
        "# df_input = pd.read_pickle('./data/new_final/inputs.pkl')\n",
        "# df_output = pd.read_pickle('./data/new_final/outputs.pkl')"
      ]
    },
    {
      "cell_type": "code",
      "execution_count": 6,
      "id": "806b1870",
      "metadata": {
        "id": "806b1870"
      },
      "outputs": [],
      "source": [
        "df_input = pd.read_csv('./papers/qdots/data/inputs.csv')\n",
        "df_output = pd.read_csv('./papers/qdots/data/outputs.csv')"
      ]
    },
    {
      "cell_type": "code",
      "execution_count": 9,
      "id": "fb4cfb1b",
      "metadata": {
        "colab": {
          "base_uri": "https://localhost:8080/",
          "height": 519
        },
        "id": "fb4cfb1b",
        "outputId": "b87fc2a5-1ace-4c4d-b5c5-f109f1756aed"
      },
      "outputs": [
        {
          "output_type": "display_data",
          "data": {
            "text/plain": [
              "<Figure size 576x576 with 4 Axes>"
            ],
            "image/png": "[encoded data removed]"
          },
          "metadata": {
            "needs_background": "light"
          }
        }
      ],
      "source": [
        "fig, axs = plt.subplots(2,2,figsize=(4*2, 4*2))\n",
        "fig.subplots_adjust(hspace=0.3, wspace=0.3)\n",
        "axs = axs.flatten()\n",
        "i = 0\n",
        "for col in df_input:\n",
        "    if not '_ind' in col:\n",
        "        axs[i].hist(df_input[col])\n",
        "        axs[i].set_title(col)\n",
        "        i+=1\n",
        "plt.show()"
      ]
    },
    {
      "cell_type": "code",
      "execution_count": 10,
      "id": "2e499e36",
      "metadata": {
        "colab": {
          "base_uri": "https://localhost:8080/",
          "height": 736
        },
        "id": "2e499e36",
        "outputId": "f1f682b4-898a-4130-c1ca-aeb3bb6a66f7"
      },
      "outputs": [
        {
          "output_type": "display_data",
          "data": {
            "text/plain": [
              "<Figure size 576x864 with 6 Axes>"
            ],
            "image/png": "[encoded data removed]"
          },
          "metadata": {
            "needs_background": "light"
          }
        }
      ],
      "source": [
        "fig, axs = plt.subplots(3,2,figsize=(4*2, 4*3))\n",
        "fig.subplots_adjust(hspace=0.3, wspace=0.3)\n",
        "axs = axs.flatten()\n",
        "i = 0\n",
        "for col in df_output:\n",
        "    if not '_ind' in col:\n",
        "        axs[i].hist(df_output[col])\n",
        "        axs[i].set_title(col)\n",
        "        i+=1\n",
        "plt.show()"
      ]
    },
    {
      "cell_type": "markdown",
      "id": "0916c388",
      "metadata": {
        "id": "0916c388"
      },
      "source": [
        "## pre-processing functions"
      ]
    },
    {
      "cell_type": "code",
      "execution_count": 11,
      "id": "b0c6f6b9",
      "metadata": {
        "id": "b0c6f6b9"
      },
      "outputs": [],
      "source": [
        "# process inputs\n",
        "def transform_input(X_train, X_test):\n",
        "    X_train_proc = X_train.copy()\n",
        "    X_test_proc = X_test.copy()\n",
        "\n",
        "    for col in X_train.columns:\n",
        "        qt = QuantileTransformer(random_state=0, n_quantiles=5)\n",
        "        if '_ind' not in col:\n",
        "            c_train = X_train[col].values\n",
        "            c_test = X_test[col].values\n",
        "            X_train_proc[col] = np.asarray(qt.fit_transform(c_train.reshape(-1,1)))\n",
        "            X_test_proc[col] = np.asarray(qt.transform(c_test.reshape(-1,1)))\n",
        "            \n",
        "    return X_train_proc, X_test_proc"
      ]
    },
    {
      "cell_type": "code",
      "execution_count": 12,
      "id": "cfc81664",
      "metadata": {
        "id": "cfc81664"
      },
      "outputs": [],
      "source": [
        "# process outputs\n",
        "def transform_output(Y_train, Y_test):\n",
        "    scaler = StandardScaler()\n",
        "    impute = SimpleImputer(missing_values=np.nan, \n",
        "                         strategy=\"constant\",\n",
        "                         fill_value = 3.0\n",
        "                      )\n",
        "    Y_train_proc = scaler.fit_transform(Y_train.reshape(-1,1))\n",
        "    Y_train_proc = impute.fit_transform(Y_train_proc)\n",
        "    \n",
        "    Y_test_proc = scaler.transform(Y_test.reshape(-1,1))\n",
        "    Y_test_proc = impute.transform(Y_test_proc)\n",
        "    \n",
        "    return Y_train_proc, Y_test_proc"
      ]
    },
    {
      "cell_type": "markdown",
      "id": "7190bf9b",
      "metadata": {
        "id": "7190bf9b"
      },
      "source": [
        "## Model Training functions"
      ]
    },
    {
      "cell_type": "code",
      "execution_count": 13,
      "id": "c6ccb246",
      "metadata": {
        "id": "c6ccb246"
      },
      "outputs": [],
      "source": [
        "def xgb_train(X, y, task='cla'):\n",
        "    \"\"\"Train a xgboost model\n",
        "    \n",
        "    Parameters:\n",
        "    -----------\n",
        "        X : Input values as a pandas dataframe\n",
        "        y : Output values as a numpy array\n",
        "        \n",
        "    Returns:\n",
        "    --------\n",
        "        model : Trained xgboost model\n",
        "    \"\"\"\n",
        "    \n",
        "    if task=='cla':\n",
        "        obj = 'binary:logistic'\n",
        "    elif task=='reg':\n",
        "        obj = 'reg:squarederror'\n",
        "    \n",
        "    xgb_full = xgboost.DMatrix(X, label=y)\n",
        "\n",
        "    # create a train/test split\n",
        "    X_train, X_test, y_train, y_test = train_test_split(X, y, \n",
        "                                                        test_size=0.2, \n",
        "                                                        random_state=7)\n",
        "    \n",
        "    X_train_proc, X_test_proc = transform_input(X_train, X_test)\n",
        "    if task=='reg':\n",
        "        Y_train_proc, Y_test_proc = transform_output(y_train, y_test)\n",
        "    else:\n",
        "        Y_train_proc = y_train\n",
        "        Y_test_proc = y_test\n",
        "\n",
        "    xgb_train = xgboost.DMatrix(X_train_proc, label=Y_train_proc)\n",
        "    xgb_test = xgboost.DMatrix(X_test_proc, label=Y_test_proc)\n",
        "\n",
        "    params = {\n",
        "        \"eta\": 0.002,\n",
        "        \"max_depth\": 3,\n",
        "        \"objective\": obj,\n",
        "        \"subsample\": 0.5\n",
        "    }\n",
        "\n",
        "    model_train = xgboost.train(params, xgb_train, \n",
        "                                20000, \n",
        "                                evals = [(xgb_test, \"test\")], \n",
        "                                verbose_eval=1000\n",
        "                               )\n",
        "    \n",
        "    return model_train"
      ]
    },
    {
      "cell_type": "code",
      "execution_count": 14,
      "id": "9d6ad5e1",
      "metadata": {
        "id": "9d6ad5e1"
      },
      "outputs": [],
      "source": [
        "def predict(model, data):\n",
        "    dmat = xgboost.DMatrix(data)\n",
        "    \n",
        "    return model.predict(dmat)\n",
        "    \n",
        "def get_shap_plots(df, y, task='cla', show=True, name='None'):\n",
        "    \"\"\"Perform SHAP and obtain plots\n",
        "    \n",
        "    Parameters:\n",
        "    -----------\n",
        "        df   : Input values as a pandas dataframe\n",
        "        y    : Output values as a numpy array\n",
        "        task : string specifying the task\n",
        "               cla - classification\n",
        "               reg - regression\n",
        "        show : to show plots rather than save\n",
        "        name : file name to save the plot\n",
        "              \n",
        "        \n",
        "    Returns:\n",
        "    --------\n",
        "        out : A dictonary with the following \n",
        "              model : Trained xgboost model\n",
        "              explainer : Explainer model\n",
        "    \"\"\"\n",
        "    model = xgb_train(df, y, task)\n",
        "    predictor = lambda X : predict(model, X)\n",
        "    explainer = shap.explainers.Exact(predictor, df)\n",
        "    shap_values = explainer(df)\n",
        "    #shap_values = shap_values[...,1]\n",
        "    print(shap_values.shape)\n",
        "    # plot local explanations\n",
        "    shap.plots.beeswarm(shap_values, show=False)\n",
        "    ax = plt.gca()\n",
        "    plt.xticks(fontsize=22)\n",
        "    plt.yticks(fontsize=22)\n",
        "    plt.xlabel('SHAP value', fontsize=22)\n",
        "    if not show:\n",
        "        plt.savefig(FIGURES_DIR+name+'_beeswarm.pdf')\n",
        "        plt.close()\n",
        "    else:\n",
        "        plt.show()\n",
        "    \n",
        "    # plot the global importance\n",
        "    shap.plots.bar(shap_values, show=False)\n",
        "    plt.xticks(fontsize=22)\n",
        "    plt.yticks(fontsize=22)\n",
        "    plt.xlabel('mean SHAP value', fontsize=22)\n",
        "    if not show:\n",
        "        plt.savefig(FIGURES_DIR+name+'_bar.pdf')\n",
        "        plt.close()\n",
        "    else:\n",
        "        plt.show()\n",
        "    \n",
        "    out = {}\n",
        "    out['model'] = model\n",
        "    out['explainer'] = shap_values\n",
        "\n",
        "    return out"
      ]
    },
    {
      "cell_type": "markdown",
      "id": "110efc4a",
      "metadata": {
        "id": "110efc4a"
      },
      "source": [
        "## Classification tasks"
      ]
    },
    {
      "cell_type": "code",
      "execution_count": null,
      "id": "44576f31",
      "metadata": {
        "colab": {
          "base_uri": "https://localhost:8080/"
        },
        "id": "44576f31",
        "outputId": "ae151e63-1094-437f-8aa1-7e8776de3502"
      },
      "outputs": [
        {
          "output_type": "stream",
          "name": "stdout",
          "text": [
            "[0]\ttest-error:0.184\n",
            "[1000]\ttest-error:0.104\n",
            "[2000]\ttest-error:0.064\n",
            "[3000]\ttest-error:0.064\n",
            "[4000]\ttest-error:0.056\n",
            "[5000]\ttest-error:0.064\n",
            "[6000]\ttest-error:0.064\n",
            "[7000]\ttest-error:0.056\n",
            "[8000]\ttest-error:0.048\n",
            "[9000]\ttest-error:0.048\n",
            "[10000]\ttest-error:0.04\n",
            "[11000]\ttest-error:0.04\n",
            "[12000]\ttest-error:0.04\n",
            "[13000]\ttest-error:0.04\n",
            "[14000]\ttest-error:0.04\n",
            "[15000]\ttest-error:0.04\n",
            "[16000]\ttest-error:0.04\n",
            "[17000]\ttest-error:0.04\n",
            "[18000]\ttest-error:0.04\n",
            "[19000]\ttest-error:0.04\n",
            "[19999]\ttest-error:0.04\n"
          ]
        },
        {
          "output_type": "stream",
          "name": "stderr",
          "text": [
            "Exact explainer:   7%|▋         | 41/625 [11:08<3:00:43, 18.57s/it]"
          ]
        }
      ],
      "source": [
        "y = df_output['UV_ind'].values\n",
        "df_X = df_input\n",
        "out = get_shap_plots(df_X, y, task='cla', show=SAVE_FIG, name='uv_ind')"
      ]
    },
    {
      "cell_type": "code",
      "execution_count": null,
      "id": "e1ef8bc0",
      "metadata": {
        "id": "e1ef8bc0",
        "outputId": "5a8af75e-a4d4-4510-94d5-d43364680f6c"
      },
      "outputs": [
        {
          "name": "stdout",
          "output_type": "stream",
          "text": [
            "[0]\ttest-logloss:0.69126\n",
            "[1000]\ttest-logloss:0.08315\n",
            "[2000]\ttest-logloss:0.01972\n",
            "[3000]\ttest-logloss:0.01361\n",
            "[4000]\ttest-logloss:0.01268\n",
            "[5000]\ttest-logloss:0.01238\n",
            "[6000]\ttest-logloss:0.01230\n",
            "[7000]\ttest-logloss:0.01231\n",
            "[8000]\ttest-logloss:0.01234\n",
            "[9000]\ttest-logloss:0.01238\n",
            "[10000]\ttest-logloss:0.01241\n",
            "[11000]\ttest-logloss:0.01244\n",
            "[12000]\ttest-logloss:0.01247\n",
            "[13000]\ttest-logloss:0.01248\n",
            "[14000]\ttest-logloss:0.01249\n",
            "[15000]\ttest-logloss:0.01251\n",
            "[16000]\ttest-logloss:0.01250\n",
            "[17000]\ttest-logloss:0.01251\n",
            "[18000]\ttest-logloss:0.01251\n",
            "[19000]\ttest-logloss:0.01253\n",
            "[19999]\ttest-logloss:0.01254\n"
          ]
        },
        {
          "name": "stderr",
          "output_type": "stream",
          "text": [
            "Exact explainer: 626it [02:24,  4.05it/s]                                                                                              \n"
          ]
        },
        {
          "name": "stdout",
          "output_type": "stream",
          "text": [
            "(625, 8)\n"
          ]
        }
      ],
      "source": [
        "y = df_output['FL_ind'].values\n",
        "df_X = df_input\n",
        "out = get_shap_plots(df_X, y, task='cla', show=SAVE_FIG, name='fl_ind')"
      ]
    },
    {
      "cell_type": "markdown",
      "id": "7833afe2",
      "metadata": {
        "id": "7833afe2"
      },
      "source": [
        "## Regression tasks"
      ]
    },
    {
      "cell_type": "code",
      "execution_count": null,
      "id": "93c5922e",
      "metadata": {
        "id": "93c5922e",
        "outputId": "15825a8a-f2cf-4bc3-c879-ae3c05fa09e2"
      },
      "outputs": [
        {
          "name": "stdout",
          "output_type": "stream",
          "text": [
            "[0]\ttest-rmse:1.10048\n",
            "[1000]\ttest-rmse:0.45032\n",
            "[2000]\ttest-rmse:0.40488\n",
            "[3000]\ttest-rmse:0.39764\n",
            "[4000]\ttest-rmse:0.39514\n",
            "[5000]\ttest-rmse:0.39499\n",
            "[6000]\ttest-rmse:0.39678\n",
            "[7000]\ttest-rmse:0.39818\n",
            "[8000]\ttest-rmse:0.40071\n",
            "[9000]\ttest-rmse:0.40408\n",
            "[10000]\ttest-rmse:0.40637\n",
            "[11000]\ttest-rmse:0.40918\n",
            "[12000]\ttest-rmse:0.41111\n",
            "[13000]\ttest-rmse:0.41269\n",
            "[14000]\ttest-rmse:0.41551\n",
            "[15000]\ttest-rmse:0.41850\n",
            "[16000]\ttest-rmse:0.42180\n",
            "[17000]\ttest-rmse:0.42360\n",
            "[18000]\ttest-rmse:0.42516\n",
            "[19000]\ttest-rmse:0.42814\n",
            "[19999]\ttest-rmse:0.43014\n"
          ]
        },
        {
          "name": "stderr",
          "output_type": "stream",
          "text": [
            "Exact explainer: 264it [00:41,  4.78it/s]                                                                                              \n"
          ]
        },
        {
          "name": "stdout",
          "output_type": "stream",
          "text": [
            "(263, 8)\n"
          ]
        }
      ],
      "source": [
        "flags = df_output['UV_ind']==1\n",
        "df_X = df_input[flags]\n",
        "y = df_output[flags]['UV_PP'].values\n",
        "out = get_shap_plots(df_X, y, task='reg', show=SAVE_FIG, name='uv_pp')"
      ]
    },
    {
      "cell_type": "code",
      "execution_count": null,
      "id": "36558b98",
      "metadata": {
        "id": "36558b98",
        "outputId": "d5073e3b-79be-4e9b-c863-f480aeb57e92"
      },
      "outputs": [
        {
          "name": "stdout",
          "output_type": "stream",
          "text": [
            "[0]\ttest-rmse:1.17212\n",
            "[1000]\ttest-rmse:0.75032\n",
            "[2000]\ttest-rmse:0.71274\n",
            "[3000]\ttest-rmse:0.70260\n",
            "[4000]\ttest-rmse:0.70429\n",
            "[5000]\ttest-rmse:0.70845\n",
            "[6000]\ttest-rmse:0.71282\n",
            "[7000]\ttest-rmse:0.71862\n",
            "[8000]\ttest-rmse:0.72585\n",
            "[9000]\ttest-rmse:0.72849\n",
            "[10000]\ttest-rmse:0.73359\n",
            "[11000]\ttest-rmse:0.73961\n",
            "[12000]\ttest-rmse:0.74375\n",
            "[13000]\ttest-rmse:0.74792\n",
            "[14000]\ttest-rmse:0.75364\n",
            "[15000]\ttest-rmse:0.75725\n",
            "[16000]\ttest-rmse:0.76321\n",
            "[17000]\ttest-rmse:0.76715\n",
            "[18000]\ttest-rmse:0.77275\n",
            "[19000]\ttest-rmse:0.77707\n",
            "[19999]\ttest-rmse:0.78140\n"
          ]
        },
        {
          "name": "stderr",
          "output_type": "stream",
          "text": [
            "Exact explainer: 401it [01:02,  5.40it/s]                                                                                              \n"
          ]
        },
        {
          "name": "stdout",
          "output_type": "stream",
          "text": [
            "(400, 8)\n"
          ]
        }
      ],
      "source": [
        "flags = df_output['FL_ind']==1\n",
        "df_X = df_input[flags]\n",
        "y = df_output[flags]['FL_PI'].values\n",
        "out = get_shap_plots(df_X, y, task='reg', show=SAVE_FIG, name='fl_pi')"
      ]
    },
    {
      "cell_type": "code",
      "execution_count": null,
      "id": "438b2f69",
      "metadata": {
        "id": "438b2f69",
        "outputId": "59c6a88a-5c12-4d4a-87d2-0609cf4c9899"
      },
      "outputs": [
        {
          "name": "stdout",
          "output_type": "stream",
          "text": [
            "[0]\ttest-rmse:1.15430\n",
            "[1000]\ttest-rmse:0.55752\n",
            "[2000]\ttest-rmse:0.52718\n",
            "[3000]\ttest-rmse:0.52564\n",
            "[4000]\ttest-rmse:0.52761\n",
            "[5000]\ttest-rmse:0.53043\n",
            "[6000]\ttest-rmse:0.53446\n",
            "[7000]\ttest-rmse:0.53866\n",
            "[8000]\ttest-rmse:0.54221\n",
            "[9000]\ttest-rmse:0.54681\n",
            "[10000]\ttest-rmse:0.55181\n",
            "[11000]\ttest-rmse:0.55634\n",
            "[12000]\ttest-rmse:0.56024\n",
            "[13000]\ttest-rmse:0.56313\n",
            "[14000]\ttest-rmse:0.56661\n",
            "[15000]\ttest-rmse:0.56977\n",
            "[16000]\ttest-rmse:0.57256\n",
            "[17000]\ttest-rmse:0.57599\n",
            "[18000]\ttest-rmse:0.57811\n",
            "[19000]\ttest-rmse:0.58048\n",
            "[19999]\ttest-rmse:0.58269\n"
          ]
        },
        {
          "name": "stderr",
          "output_type": "stream",
          "text": [
            "Exact explainer: 401it [01:02,  5.40it/s]                                                                                              \n"
          ]
        },
        {
          "name": "stdout",
          "output_type": "stream",
          "text": [
            "(400, 8)\n"
          ]
        }
      ],
      "source": [
        "flags = df_output['FL_ind']==1\n",
        "df_X = df_input[flags]\n",
        "y = df_output[flags]['FL_PP'].values\n",
        "out = get_shap_plots(df_X, y, task='reg', show=SAVE_FIG, name='fl_pp')"
      ]
    }
  ],
  "metadata": {
    "kernelspec": {
      "display_name": "QDs",
      "language": "python",
      "name": "qds"
    },
    "language_info": {
      "codemirror_mode": {
        "name": "ipython",
        "version": 3
      },
      "file_extension": ".py",
      "mimetype": "text/x-python",
      "name": "python",
      "nbconvert_exporter": "python",
      "pygments_lexer": "ipython3",
      "version": "3.8.8"
    },
    "colab": {
      "provenance": []
    }
  },
  "nbformat": 4,
  "nbformat_minor": 5
}