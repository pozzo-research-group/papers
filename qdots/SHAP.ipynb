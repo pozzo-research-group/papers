{
 "cells": [
  {
   "cell_type": "code",
   "execution_count": 1,
   "id": "27773b54",
   "metadata": {},
   "outputs": [],
   "source": [
    "import numpy as np\n",
    "import pandas as pd\n",
    "import matplotlib.pyplot as plt\n",
    "plt.rcParams.update({\"text.usetex\": True,\n",
    "                     \"axes.spines.right\" : False,\n",
    "                     \"axes.spines.top\" : False,\n",
    "                     \"font.size\": 22,\n",
    "                     \"savefig.dpi\": 600,\n",
    "                     \"savefig.bbox\": 'tight',\n",
    "                     'text.latex.preamble': r'\\usepackage{amsfonts}'\n",
    "                    }\n",
    "                   )\n",
    "\n",
    "from sklearn.model_selection import train_test_split\n",
    "from sklearn.preprocessing import StandardScaler, QuantileTransformer\n",
    "from sklearn.impute import SimpleImputer\n",
    "\n",
    "FIGURES_DIR = './figures/shap/'\n",
    "SAVE_FIG = False"
   ]
  },
  {
   "cell_type": "code",
   "execution_count": 2,
   "id": "594d4120",
   "metadata": {},
   "outputs": [],
   "source": [
    "import shap\n",
    "import xgboost"
   ]
  },
  {
   "cell_type": "code",
   "execution_count": 3,
   "id": "2e9e3b02",
   "metadata": {},
   "outputs": [],
   "source": [
    "# df_input = pd.read_pickle('./data/new_final/inputs.pkl')\n",
    "# df_output = pd.read_pickle('./data/new_final/outputs.pkl')"
   ]
  },
  {
   "cell_type": "code",
   "execution_count": 4,
   "id": "806b1870",
   "metadata": {},
   "outputs": [],
   "source": [
    "df_input = pd.read_csv('./data/new_final/inputs.csv')\n",
    "df_output = pd.read_csv('./data/new_final/outputs.csv')"
   ]
  },
  {
   "cell_type": "code",
   "execution_count": 5,
   "id": "b54f9b5e",
   "metadata": {},
   "outputs": [
    {
     "data": {
      "text/plain": [
       "(     OlAm_ind  CdAc_ind  OA_ind  Se_ind  OlAm  CdAc   OA     Se\n",
       " 0           0         0       0       0   0.0   0.0  0.0  0.000\n",
       " 1           0         0       0       1   0.0   0.0  0.0  0.025\n",
       " 2           0         0       0       1   0.0   0.0  0.0  0.050\n",
       " 3           0         0       0       1   0.0   0.0  0.0  0.075\n",
       " 4           0         0       0       1   0.0   0.0  0.0  0.100\n",
       " ..        ...       ...     ...     ...   ...   ...  ...    ...\n",
       " 620         1         1       1       0   0.5   0.1  0.5  0.000\n",
       " 621         1         1       1       1   0.5   0.1  0.5  0.025\n",
       " 622         1         1       1       1   0.5   0.1  0.5  0.050\n",
       " 623         1         1       1       1   0.5   0.1  0.5  0.075\n",
       " 624         1         1       1       1   0.5   0.1  0.5  0.100\n",
       " \n",
       " [625 rows x 8 columns],\n",
       "      UV_ind  FL_ind  UV_PP     UV_PI       FL_PP        FL_PI  FL_SS\n",
       " 0         0       0    NaN       NaN         NaN          NaN    NaN\n",
       " 1         0       0    NaN       NaN         NaN          NaN    NaN\n",
       " 2         0       0    NaN       NaN         NaN          NaN    NaN\n",
       " 3         0       0    NaN       NaN         NaN          NaN    NaN\n",
       " 4         0       0    NaN       NaN         NaN          NaN    NaN\n",
       " ..      ...     ...    ...       ...         ...          ...    ...\n",
       " 620       0       0    NaN       NaN         NaN          NaN    NaN\n",
       " 621       0       1    NaN       NaN  502.000000  1976.333333    NaN\n",
       " 622       0       1    NaN       NaN  518.333333  1100.666667    NaN\n",
       " 623       1       1  377.0  0.815000  510.666667  1723.000000   89.0\n",
       " 624       1       1  377.5  0.886833  513.333333  1576.666667  122.5\n",
       " \n",
       " [625 rows x 7 columns])"
      ]
     },
     "execution_count": 5,
     "metadata": {},
     "output_type": "execute_result"
    }
   ],
   "source": [
    "df_input, df_output"
   ]
  },
  {
   "cell_type": "code",
   "execution_count": 6,
   "id": "fb4cfb1b",
   "metadata": {},
   "outputs": [
    {
     "data": {
      "image/png": "[encoded data removed]",
      "text/plain": [
       "<Figure size 576x576 with 4 Axes>"
      ]
     },
     "metadata": {
      "needs_background": "light"
     },
     "output_type": "display_data"
    }
   ],
   "source": [
    "fig, axs = plt.subplots(2,2,figsize=(4*2, 4*2))\n",
    "fig.subplots_adjust(hspace=0.3, wspace=0.3)\n",
    "axs = axs.flatten()\n",
    "i = 0\n",
    "for col in df_input:\n",
    "    if not '_ind' in col:\n",
    "        axs[i].hist(df_input[col])\n",
    "        axs[i].set_title(col)\n",
    "        i+=1\n",
    "plt.show()"
   ]
  },
  {
   "cell_type": "code",
   "execution_count": 7,
   "id": "2e499e36",
   "metadata": {},
   "outputs": [
    {
     "data": {
      "image/png": "[encoded data removed]",
      "text/plain": [
       "<Figure size 576x864 with 6 Axes>"
      ]
     },
     "metadata": {
      "needs_background": "light"
     },
     "output_type": "display_data"
    }
   ],
   "source": [
    "fig, axs = plt.subplots(3,2,figsize=(4*2, 4*3))\n",
    "fig.subplots_adjust(hspace=0.3, wspace=0.3)\n",
    "axs = axs.flatten()\n",
    "i = 0\n",
    "for col in df_output:\n",
    "    if not '_ind' in col:\n",
    "        axs[i].hist(df_output[col])\n",
    "        axs[i].set_title(col)\n",
    "        i+=1\n",
    "plt.show()"
   ]
  },
  {
   "cell_type": "markdown",
   "id": "0916c388",
   "metadata": {},
   "source": [
    "## pre-processing functions"
   ]
  },
  {
   "cell_type": "code",
   "execution_count": 8,
   "id": "b0c6f6b9",
   "metadata": {},
   "outputs": [],
   "source": [
    "# process inputs\n",
    "def transform_input(X_train, X_test):\n",
    "    X_train_proc = X_train.copy()\n",
    "    X_test_proc = X_test.copy()\n",
    "\n",
    "    for col in X_train.columns:\n",
    "        qt = QuantileTransformer(random_state=0, n_quantiles=5)\n",
    "        if '_ind' not in col:\n",
    "            c_train = X_train[col].values\n",
    "            c_test = X_test[col].values\n",
    "            X_train_proc[col] = np.asarray(qt.fit_transform(c_train.reshape(-1,1)))\n",
    "            X_test_proc[col] = np.asarray(qt.transform(c_test.reshape(-1,1)))\n",
    "            \n",
    "    return X_train_proc, X_test_proc"
   ]
  },
  {
   "cell_type": "code",
   "execution_count": 9,
   "id": "cfc81664",
   "metadata": {},
   "outputs": [],
   "source": [
    "# process outputs\n",
    "def transform_output(Y_train, Y_test):\n",
    "    scaler = StandardScaler()\n",
    "    impute = SimpleImputer(missing_values=np.nan, \n",
    "                         strategy=\"constant\",\n",
    "                         fill_value = 3.0\n",
    "                      )\n",
    "    Y_train_proc = scaler.fit_transform(Y_train.reshape(-1,1))\n",
    "    Y_train_proc = impute.fit_transform(Y_train_proc)\n",
    "    \n",
    "    Y_test_proc = scaler.transform(Y_test.reshape(-1,1))\n",
    "    Y_test_proc = impute.transform(Y_test_proc)\n",
    "    \n",
    "    return Y_train_proc, Y_test_proc"
   ]
  },
  {
   "cell_type": "markdown",
   "id": "7190bf9b",
   "metadata": {},
   "source": [
    "## Model Training functions"
   ]
  },
  {
   "cell_type": "code",
   "execution_count": 10,
   "id": "c6ccb246",
   "metadata": {},
   "outputs": [],
   "source": [
    "def xgb_train(X, y, task='cla'):\n",
    "    \"\"\"Train a xgboost model\n",
    "    \n",
    "    Parameters:\n",
    "    -----------\n",
    "        X : Input values as a pandas dataframe\n",
    "        y : Output values as a numpy array\n",
    "        \n",
    "    Returns:\n",
    "    --------\n",
    "        model : Trained xgboost model\n",
    "    \"\"\"\n",
    "    \n",
    "    if task=='cla':\n",
    "        obj = 'binary:logistic'\n",
    "    elif task=='reg':\n",
    "        obj = 'reg:squarederror'\n",
    "    \n",
    "    xgb_full = xgboost.DMatrix(X, label=y)\n",
    "\n",
    "    # create a train/test split\n",
    "    X_train, X_test, y_train, y_test = train_test_split(X, y, \n",
    "                                                        test_size=0.2, \n",
    "                                                        random_state=7)\n",
    "    \n",
    "    X_train_proc, X_test_proc = transform_input(X_train, X_test)\n",
    "    if task=='reg':\n",
    "        Y_train_proc, Y_test_proc = transform_output(y_train, y_test)\n",
    "    else:\n",
    "        Y_train_proc = y_train\n",
    "        Y_test_proc = y_test\n",
    "\n",
    "    xgb_train = xgboost.DMatrix(X_train_proc, label=Y_train_proc)\n",
    "    xgb_test = xgboost.DMatrix(X_test_proc, label=Y_test_proc)\n",
    "\n",
    "    params = {\n",
    "        \"eta\": 0.002,\n",
    "        \"max_depth\": 3,\n",
    "        \"objective\": obj,\n",
    "        \"subsample\": 0.5\n",
    "    }\n",
    "\n",
    "    model_train = xgboost.train(params, xgb_train, \n",
    "                                20000, \n",
    "                                evals = [(xgb_test, \"test\")], \n",
    "                                verbose_eval=1000\n",
    "                               )\n",
    "    \n",
    "    return model_train"
   ]
  },
  {
   "cell_type": "code",
   "execution_count": 11,
   "id": "9d6ad5e1",
   "metadata": {},
   "outputs": [],
   "source": [
    "def predict(model, data):\n",
    "    dmat = xgboost.DMatrix(data)\n",
    "    \n",
    "    return model.predict(dmat)\n",
    "    \n",
    "def get_shap_plots(df, y, task='cla', show=True, name='None'):\n",
    "    \"\"\"Perform SHAP and obtain plots\n",
    "    \n",
    "    Parameters:\n",
    "    -----------\n",
    "        df   : Input values as a pandas dataframe\n",
    "        y    : Output values as a numpy array\n",
    "        task : string specifying the task\n",
    "               cla - classification\n",
    "               reg - regression\n",
    "        show : to show plots rather than save\n",
    "        name : file name to save the plot\n",
    "              \n",
    "        \n",
    "    Returns:\n",
    "    --------\n",
    "        out : A dictonary with the following \n",
    "              model : Trained xgboost model\n",
    "              explainer : Explainer model\n",
    "    \"\"\"\n",
    "    model = xgb_train(df, y, task)\n",
    "    predictor = lambda X : predict(model, X)\n",
    "    explainer = shap.explainers.Exact(predictor, df)\n",
    "    shap_values = explainer(df)\n",
    "    #shap_values = shap_values[...,1]\n",
    "    print(shap_values.shape)\n",
    "    # plot local explanations\n",
    "    shap.plots.beeswarm(shap_values, show=False)\n",
    "    ax = plt.gca()\n",
    "    plt.xticks(fontsize=22)\n",
    "    plt.yticks(fontsize=22)\n",
    "    plt.xlabel('SHAP value', fontsize=22)\n",
    "    if not show:\n",
    "        plt.savefig(FIGURES_DIR+name+'_beeswarm.pdf')\n",
    "        plt.close()\n",
    "    else:\n",
    "        plt.show()\n",
    "    \n",
    "    # plot the global importance\n",
    "    shap.plots.bar(shap_values, show=False)\n",
    "    plt.xticks(fontsize=22)\n",
    "    plt.yticks(fontsize=22)\n",
    "    plt.xlabel('mean SHAP value', fontsize=22)\n",
    "    if not show:\n",
    "        plt.savefig(FIGURES_DIR+name+'_bar.pdf')\n",
    "        plt.close()\n",
    "    else:\n",
    "        plt.show()\n",
    "    \n",
    "    out = {}\n",
    "    out['model'] = model\n",
    "    out['explainer'] = shap_values\n",
    "\n",
    "    return out"
   ]
  },
  {
   "cell_type": "markdown",
   "id": "110efc4a",
   "metadata": {},
   "source": [
    "## Classification tasks"
   ]
  },
  {
   "cell_type": "code",
   "execution_count": 12,
   "id": "44576f31",
   "metadata": {},
   "outputs": [
    {
     "name": "stdout",
     "output_type": "stream",
     "text": [
      "[0]\ttest-logloss:0.69209\n",
      "[1000]\ttest-logloss:0.31140\n",
      "[2000]\ttest-logloss:0.23239\n",
      "[3000]\ttest-logloss:0.19910\n",
      "[4000]\ttest-logloss:0.18012\n",
      "[5000]\ttest-logloss:0.16784\n",
      "[6000]\ttest-logloss:0.15912\n",
      "[7000]\ttest-logloss:0.15351\n",
      "[8000]\ttest-logloss:0.14838\n",
      "[9000]\ttest-logloss:0.14570\n",
      "[10000]\ttest-logloss:0.14280\n",
      "[11000]\ttest-logloss:0.14081\n",
      "[12000]\ttest-logloss:0.13943\n",
      "[13000]\ttest-logloss:0.13814\n",
      "[14000]\ttest-logloss:0.13748\n",
      "[15000]\ttest-logloss:0.13694\n",
      "[16000]\ttest-logloss:0.13625\n",
      "[17000]\ttest-logloss:0.13564\n",
      "[18000]\ttest-logloss:0.13555\n",
      "[19000]\ttest-logloss:0.13562\n",
      "[19999]\ttest-logloss:0.13482\n"
     ]
    },
    {
     "name": "stderr",
     "output_type": "stream",
     "text": [
      "Exact explainer: 626it [05:24,  1.87it/s]                                                                                              \n"
     ]
    },
    {
     "name": "stdout",
     "output_type": "stream",
     "text": [
      "(625, 8)\n"
     ]
    }
   ],
   "source": [
    "y = df_output['UV_ind'].values\n",
    "df_X = df_input\n",
    "out = get_shap_plots(df_X, y, task='cla', show=SAVE_FIG, name='uv_ind')"
   ]
  },
  {
   "cell_type": "code",
   "execution_count": 13,
   "id": "e1ef8bc0",
   "metadata": {},
   "outputs": [
    {
     "name": "stdout",
     "output_type": "stream",
     "text": [
      "[0]\ttest-logloss:0.69126\n",
      "[1000]\ttest-logloss:0.08315\n",
      "[2000]\ttest-logloss:0.01972\n",
      "[3000]\ttest-logloss:0.01361\n",
      "[4000]\ttest-logloss:0.01268\n",
      "[5000]\ttest-logloss:0.01238\n",
      "[6000]\ttest-logloss:0.01230\n",
      "[7000]\ttest-logloss:0.01231\n",
      "[8000]\ttest-logloss:0.01234\n",
      "[9000]\ttest-logloss:0.01238\n",
      "[10000]\ttest-logloss:0.01241\n",
      "[11000]\ttest-logloss:0.01244\n",
      "[12000]\ttest-logloss:0.01247\n",
      "[13000]\ttest-logloss:0.01248\n",
      "[14000]\ttest-logloss:0.01249\n",
      "[15000]\ttest-logloss:0.01251\n",
      "[16000]\ttest-logloss:0.01250\n",
      "[17000]\ttest-logloss:0.01251\n",
      "[18000]\ttest-logloss:0.01251\n",
      "[19000]\ttest-logloss:0.01253\n",
      "[19999]\ttest-logloss:0.01254\n"
     ]
    },
    {
     "name": "stderr",
     "output_type": "stream",
     "text": [
      "Exact explainer: 626it [02:24,  4.05it/s]                                                                                              \n"
     ]
    },
    {
     "name": "stdout",
     "output_type": "stream",
     "text": [
      "(625, 8)\n"
     ]
    }
   ],
   "source": [
    "y = df_output['FL_ind'].values\n",
    "df_X = df_input\n",
    "out = get_shap_plots(df_X, y, task='cla', show=SAVE_FIG, name='fl_ind')"
   ]
  },
  {
   "cell_type": "markdown",
   "id": "7833afe2",
   "metadata": {},
   "source": [
    "## Regression tasks"
   ]
  },
  {
   "cell_type": "code",
   "execution_count": 14,
   "id": "93c5922e",
   "metadata": {},
   "outputs": [
    {
     "name": "stdout",
     "output_type": "stream",
     "text": [
      "[0]\ttest-rmse:1.10048\n",
      "[1000]\ttest-rmse:0.45032\n",
      "[2000]\ttest-rmse:0.40488\n",
      "[3000]\ttest-rmse:0.39764\n",
      "[4000]\ttest-rmse:0.39514\n",
      "[5000]\ttest-rmse:0.39499\n",
      "[6000]\ttest-rmse:0.39678\n",
      "[7000]\ttest-rmse:0.39818\n",
      "[8000]\ttest-rmse:0.40071\n",
      "[9000]\ttest-rmse:0.40408\n",
      "[10000]\ttest-rmse:0.40637\n",
      "[11000]\ttest-rmse:0.40918\n",
      "[12000]\ttest-rmse:0.41111\n",
      "[13000]\ttest-rmse:0.41269\n",
      "[14000]\ttest-rmse:0.41551\n",
      "[15000]\ttest-rmse:0.41850\n",
      "[16000]\ttest-rmse:0.42180\n",
      "[17000]\ttest-rmse:0.42360\n",
      "[18000]\ttest-rmse:0.42516\n",
      "[19000]\ttest-rmse:0.42814\n",
      "[19999]\ttest-rmse:0.43014\n"
     ]
    },
    {
     "name": "stderr",
     "output_type": "stream",
     "text": [
      "Exact explainer: 264it [00:41,  4.78it/s]                                                                                              \n"
     ]
    },
    {
     "name": "stdout",
     "output_type": "stream",
     "text": [
      "(263, 8)\n"
     ]
    }
   ],
   "source": [
    "flags = df_output['UV_ind']==1\n",
    "df_X = df_input[flags]\n",
    "y = df_output[flags]['UV_PP'].values\n",
    "out = get_shap_plots(df_X, y, task='reg', show=SAVE_FIG, name='uv_pp')"
   ]
  },
  {
   "cell_type": "code",
   "execution_count": 15,
   "id": "36558b98",
   "metadata": {},
   "outputs": [
    {
     "name": "stdout",
     "output_type": "stream",
     "text": [
      "[0]\ttest-rmse:1.17212\n",
      "[1000]\ttest-rmse:0.75032\n",
      "[2000]\ttest-rmse:0.71274\n",
      "[3000]\ttest-rmse:0.70260\n",
      "[4000]\ttest-rmse:0.70429\n",
      "[5000]\ttest-rmse:0.70845\n",
      "[6000]\ttest-rmse:0.71282\n",
      "[7000]\ttest-rmse:0.71862\n",
      "[8000]\ttest-rmse:0.72585\n",
      "[9000]\ttest-rmse:0.72849\n",
      "[10000]\ttest-rmse:0.73359\n",
      "[11000]\ttest-rmse:0.73961\n",
      "[12000]\ttest-rmse:0.74375\n",
      "[13000]\ttest-rmse:0.74792\n",
      "[14000]\ttest-rmse:0.75364\n",
      "[15000]\ttest-rmse:0.75725\n",
      "[16000]\ttest-rmse:0.76321\n",
      "[17000]\ttest-rmse:0.76715\n",
      "[18000]\ttest-rmse:0.77275\n",
      "[19000]\ttest-rmse:0.77707\n",
      "[19999]\ttest-rmse:0.78140\n"
     ]
    },
    {
     "name": "stderr",
     "output_type": "stream",
     "text": [
      "Exact explainer: 401it [01:02,  5.40it/s]                                                                                              \n"
     ]
    },
    {
     "name": "stdout",
     "output_type": "stream",
     "text": [
      "(400, 8)\n"
     ]
    }
   ],
   "source": [
    "flags = df_output['FL_ind']==1\n",
    "df_X = df_input[flags]\n",
    "y = df_output[flags]['FL_PI'].values\n",
    "out = get_shap_plots(df_X, y, task='reg', show=SAVE_FIG, name='fl_pi')"
   ]
  },
  {
   "cell_type": "code",
   "execution_count": 16,
   "id": "438b2f69",
   "metadata": {},
   "outputs": [
    {
     "name": "stdout",
     "output_type": "stream",
     "text": [
      "[0]\ttest-rmse:1.15430\n",
      "[1000]\ttest-rmse:0.55752\n",
      "[2000]\ttest-rmse:0.52718\n",
      "[3000]\ttest-rmse:0.52564\n",
      "[4000]\ttest-rmse:0.52761\n",
      "[5000]\ttest-rmse:0.53043\n",
      "[6000]\ttest-rmse:0.53446\n",
      "[7000]\ttest-rmse:0.53866\n",
      "[8000]\ttest-rmse:0.54221\n",
      "[9000]\ttest-rmse:0.54681\n",
      "[10000]\ttest-rmse:0.55181\n",
      "[11000]\ttest-rmse:0.55634\n",
      "[12000]\ttest-rmse:0.56024\n",
      "[13000]\ttest-rmse:0.56313\n",
      "[14000]\ttest-rmse:0.56661\n",
      "[15000]\ttest-rmse:0.56977\n",
      "[16000]\ttest-rmse:0.57256\n",
      "[17000]\ttest-rmse:0.57599\n",
      "[18000]\ttest-rmse:0.57811\n",
      "[19000]\ttest-rmse:0.58048\n",
      "[19999]\ttest-rmse:0.58269\n"
     ]
    },
    {
     "name": "stderr",
     "output_type": "stream",
     "text": [
      "Exact explainer: 401it [01:02,  5.40it/s]                                                                                              \n"
     ]
    },
    {
     "name": "stdout",
     "output_type": "stream",
     "text": [
      "(400, 8)\n"
     ]
    }
   ],
   "source": [
    "flags = df_output['FL_ind']==1\n",
    "df_X = df_input[flags]\n",
    "y = df_output[flags]['FL_PP'].values\n",
    "out = get_shap_plots(df_X, y, task='reg', show=SAVE_FIG, name='fl_pp')"
   ]
  }
 ],
 "metadata": {
  "kernelspec": {
   "display_name": "QDs",
   "language": "python",
   "name": "qds"
  },
  "language_info": {
   "codemirror_mode": {
    "name": "ipython",
    "version": 3
   },
   "file_extension": ".py",
   "mimetype": "text/x-python",
   "name": "python",
   "nbconvert_exporter": "python",
   "pygments_lexer": "ipython3",
   "version": "3.8.8"
  }
 },
 "nbformat": 4,
 "nbformat_minor": 5
}
